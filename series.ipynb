{
 "cells": [
  {
   "cell_type": "markdown",
   "id": "2a636e7a",
   "metadata": {},
   "source": [
    "# SERIES\n"
   ]
  },
  {
   "cell_type": "code",
   "execution_count": 14,
   "id": "c6aa6177",
   "metadata": {},
   "outputs": [],
   "source": [
    "import pandas as pd"
   ]
  },
  {
   "cell_type": "code",
   "execution_count": 15,
   "id": "f8184a33",
   "metadata": {},
   "outputs": [
    {
     "data": {
      "text/plain": [
       "0    2\n",
       "1    5\n",
       "2    6\n",
       "3    8\n",
       "4    3\n",
       "5    7\n",
       "dtype: int64"
      ]
     },
     "execution_count": 15,
     "metadata": {},
     "output_type": "execute_result"
    }
   ],
   "source": [
    "x = [2,5,6,8,3,7]\n",
    "var = pd.Series (x)\n",
    "var"
   ]
  },
  {
   "cell_type": "code",
   "execution_count": 17,
   "id": "6a5db44a",
   "metadata": {},
   "outputs": [
    {
     "data": {
      "text/plain": [
       "a    2\n",
       "b    5\n",
       "c    6\n",
       "d    8\n",
       "e    3\n",
       "f    7\n",
       "dtype: int64"
      ]
     },
     "execution_count": 17,
     "metadata": {},
     "output_type": "execute_result"
    }
   ],
   "source": [
    "ind= pd.Series(x ,index=['a','b','c','d','e','f'])\n",
    "ind\n",
    "\n",
    "\n",
    "\n",
    "# updating indexing "
   ]
  },
  {
   "cell_type": "code",
   "execution_count": 18,
   "id": "228ecd7f",
   "metadata": {},
   "outputs": [
    {
     "data": {
      "text/plain": [
       "0    2.0\n",
       "1    5.0\n",
       "2    6.0\n",
       "3    8.0\n",
       "4    3.0\n",
       "5    7.0\n",
       "dtype: float64"
      ]
     },
     "execution_count": 18,
     "metadata": {},
     "output_type": "execute_result"
    }
   ],
   "source": [
    "f= pd.Series(x,dtype=float)\n",
    "f\n",
    "\n",
    "                            #We can change our int value to float value "
   ]
  },
  {
   "cell_type": "code",
   "execution_count": 20,
   "id": "ea4905ef",
   "metadata": {},
   "outputs": [
    {
     "data": {
      "text/plain": [
       "Name       [Python, cc+, java, sql]\n",
       "Rank                   [1, 2, 3, 4]\n",
       "college      [ITT, lucknow , rudki]\n",
       "dtype: object"
      ]
     },
     "execution_count": 20,
     "metadata": {},
     "output_type": "execute_result"
    }
   ],
   "source": [
    "d={\"Name\":[\"Python\",\"cc+\",\"java\",\"sql\"],\n",
    "  \"Rank\":[1,2,3,4,],\"college\":[\"ITT\",\"lucknow \",\"rudki\"]}\n",
    "\n",
    "\n",
    "xyz = pd.Series(d)\n",
    "\n",
    "xyz"
   ]
  },
  {
   "cell_type": "code",
   "execution_count": 21,
   "id": "79fb3a27",
   "metadata": {},
   "outputs": [
    {
     "data": {
      "text/plain": [
       "1    12\n",
       "2    12\n",
       "3    12\n",
       "4    12\n",
       "5    12\n",
       "6    12\n",
       "7    12\n",
       "8    12\n",
       "9    12\n",
       "dtype: int64"
      ]
     },
     "execution_count": 21,
     "metadata": {},
     "output_type": "execute_result"
    }
   ],
   "source": [
    "multiple = pd.Series(12,index = [1,2,3,4,5,6,7,8,9] )\n",
    "\n",
    "multiple\n",
    "\n",
    "\n",
    "\n",
    "#value one but reptions value"
   ]
  },
  {
   "cell_type": "code",
   "execution_count": 23,
   "id": "8faadfdc",
   "metadata": {},
   "outputs": [
    {
     "name": "stdout",
     "output_type": "stream",
     "text": [
      "1    30.0\n",
      "2    30.0\n",
      "3    30.0\n",
      "4    30.0\n",
      "5    30.0\n",
      "6     NaN\n",
      "7     NaN\n",
      "8     NaN\n",
      "9     NaN\n",
      "dtype: float64\n"
     ]
    }
   ],
   "source": [
    "s1 = pd.Series (15,index = [1,2,3,4,5,6,7,8,9])\n",
    "s2 = pd.Series (15,index = [1,2,3,4,5])\n",
    "\n",
    "print(s1+s2)\n",
    "\n",
    "\n",
    "\n",
    "\n",
    "\n",
    "# when you create numpy arry then you will show broadcast Error \n"
   ]
  },
  {
   "cell_type": "code",
   "execution_count": null,
   "id": "1eaeb9e0",
   "metadata": {},
   "outputs": [],
   "source": []
  }
 ],
 "metadata": {
  "kernelspec": {
   "display_name": "Python 3 (ipykernel)",
   "language": "python",
   "name": "python3"
  },
  "language_info": {
   "codemirror_mode": {
    "name": "ipython",
    "version": 3
   },
   "file_extension": ".py",
   "mimetype": "text/x-python",
   "name": "python",
   "nbconvert_exporter": "python",
   "pygments_lexer": "ipython3",
   "version": "3.11.5"
  }
 },
 "nbformat": 4,
 "nbformat_minor": 5
}
